{
 "cells": [
  {
   "cell_type": "code",
   "execution_count": 1,
   "metadata": {},
   "outputs": [],
   "source": [
    "import json\n",
    "from difflib import get_close_matches"
   ]
  },
  {
   "cell_type": "code",
   "execution_count": 2,
   "metadata": {},
   "outputs": [],
   "source": [
    "data=json.load(open(\"data.json\"))"
   ]
  },
  {
   "cell_type": "code",
   "execution_count": 6,
   "metadata": {},
   "outputs": [
    {
     "name": "stdout",
     "output_type": "stream",
     "text": [
      "Enter word:utube\n",
      "Did you mean tube instead? Enter Y if yes, or N if noY\n",
      "Conduit consisting of a long hollow cylindrical object.\n",
      "A hollow material of a tubular, cylindrical form.\n",
      "To ride or float on an inflated tube.\n"
     ]
    }
   ],
   "source": [
    "def translate(w):\n",
    "    w=w.lower()\n",
    "    if w in data:\n",
    "        return data[w]\n",
    "    elif w.title() in data:\n",
    "        return data[w.title()]\n",
    "    elif w.upper() in data:\n",
    "        return data[w.upper()]\n",
    "    elif len(get_close_matches(w,data.keys()))>0:\n",
    "        yn=input(\"Did you mean %s instead? Enter Y if yes, or N if no\" % get_close_matches(w,data.keys())[0])\n",
    "        if yn==\"Y\":\n",
    "            return data[get_close_matches(w,data.keys())[0]]\n",
    "        elif yn==\"N\":\n",
    "            return \"The word doesn't exist.Please double check it\"\n",
    "        else:\n",
    "            return \"We didn't undurstand your entry\"\n",
    "    else:\n",
    "        return \"The word doesn't exist.Please double check it\"\n",
    "word=input(\"Enter word:\")\n",
    "output=translate(word)\n",
    "\n",
    "if type(output)==list:\n",
    "    for item in output:\n",
    "        print(item)\n",
    "else:\n",
    "    print(output)"
   ]
  },
  {
   "cell_type": "code",
   "execution_count": null,
   "metadata": {},
   "outputs": [],
   "source": []
  }
 ],
 "metadata": {
  "kernelspec": {
   "display_name": "Python 3",
   "language": "python",
   "name": "python3"
  },
  "language_info": {
   "codemirror_mode": {
    "name": "ipython",
    "version": 3
   },
   "file_extension": ".py",
   "mimetype": "text/x-python",
   "name": "python",
   "nbconvert_exporter": "python",
   "pygments_lexer": "ipython3",
   "version": "3.7.4"
  }
 },
 "nbformat": 4,
 "nbformat_minor": 2
}
